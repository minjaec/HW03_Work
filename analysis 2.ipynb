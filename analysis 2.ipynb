{
 "cells": [
  {
   "cell_type": "code",
   "execution_count": 4,
   "metadata": {
    "collapsed": true
   },
   "outputs": [],
   "source": [
    "import pandas as pd\n",
    "from vaderSentiment.vaderSentiment import SentimentIntensityAnalyzer\n",
    "import json\n",
    "from dateutil import parser\n",
    "import datetime as dt\n",
    "import numpy as np\n",
    "import pprint\n",
    "import matplotlib.pyplot as plt"
   ]
  },
  {
   "cell_type": "code",
   "execution_count": 5,
   "metadata": {
    "collapsed": true
   },
   "outputs": [],
   "source": [
    "df = pd.DataFrame\n",
    "analyzer = SentimentIntensityAnalyzer()\n",
    "d_start = dt.date(2017,12,13)\n",
    "d_end = dt.date(2018,3,19)"
   ]
  },
  {
   "cell_type": "code",
   "execution_count": 6,
   "metadata": {},
   "outputs": [],
   "source": [
    "tweets = pd.read_json(open('twitter archive'))\n",
    "tweets = tweets[tweets.created_at >= dt.date(2017,12,13)]"
   ]
  },
  {
   "cell_type": "code",
   "execution_count": 7,
   "metadata": {},
   "outputs": [
    {
     "data": {
      "text/html": [
       "<div>\n",
       "<style>\n",
       "    .dataframe thead tr:only-child th {\n",
       "        text-align: right;\n",
       "    }\n",
       "\n",
       "    .dataframe thead th {\n",
       "        text-align: left;\n",
       "    }\n",
       "\n",
       "    .dataframe tbody tr th {\n",
       "        vertical-align: top;\n",
       "    }\n",
       "</style>\n",
       "<table border=\"1\" class=\"dataframe\">\n",
       "  <thead>\n",
       "    <tr style=\"text-align: right;\">\n",
       "      <th></th>\n",
       "      <th>created_at</th>\n",
       "      <th>favorite_count</th>\n",
       "      <th>id_str</th>\n",
       "      <th>is_retweet</th>\n",
       "      <th>retweet_count</th>\n",
       "      <th>source</th>\n",
       "      <th>text</th>\n",
       "    </tr>\n",
       "  </thead>\n",
       "  <tbody>\n",
       "    <tr>\n",
       "      <th>0</th>\n",
       "      <td>2018-03-20 00:28:45</td>\n",
       "      <td>21050</td>\n",
       "      <td>975891861863829504</td>\n",
       "      <td>False</td>\n",
       "      <td>5457</td>\n",
       "      <td>Twitter for iPhone</td>\n",
       "      <td>The Democrats do not want to help DACA. Would ...</td>\n",
       "    </tr>\n",
       "    <tr>\n",
       "      <th>1</th>\n",
       "      <td>2018-03-19 22:38:15</td>\n",
       "      <td>0</td>\n",
       "      <td>975864052017659904</td>\n",
       "      <td>True</td>\n",
       "      <td>4537</td>\n",
       "      <td>Twitter for iPhone</td>\n",
       "      <td>RT @WhiteHouse: The opioid crisis has created ...</td>\n",
       "    </tr>\n",
       "    <tr>\n",
       "      <th>2</th>\n",
       "      <td>2018-03-19 13:07:50</td>\n",
       "      <td>83709</td>\n",
       "      <td>975720503997620224</td>\n",
       "      <td>False</td>\n",
       "      <td>19726</td>\n",
       "      <td>Twitter for iPhone</td>\n",
       "      <td>A total WITCH HUNT with massive conflicts of i...</td>\n",
       "    </tr>\n",
       "    <tr>\n",
       "      <th>3</th>\n",
       "      <td>2018-03-19 12:16:40</td>\n",
       "      <td>37803</td>\n",
       "      <td>975707627182219264</td>\n",
       "      <td>False</td>\n",
       "      <td>6619</td>\n",
       "      <td>Twitter for iPhone</td>\n",
       "      <td>.@seanhannity on @foxandfriends now! Great! 8:...</td>\n",
       "    </tr>\n",
       "    <tr>\n",
       "      <th>4</th>\n",
       "      <td>2018-03-18 12:35:42</td>\n",
       "      <td>112576</td>\n",
       "      <td>975350027169206272</td>\n",
       "      <td>False</td>\n",
       "      <td>30561</td>\n",
       "      <td>Twitter for iPhone</td>\n",
       "      <td>Why does the Mueller team have 13 hardened Dem...</td>\n",
       "    </tr>\n",
       "  </tbody>\n",
       "</table>\n",
       "</div>"
      ],
      "text/plain": [
       "           created_at  favorite_count              id_str  is_retweet  \\\n",
       "0 2018-03-20 00:28:45           21050  975891861863829504       False   \n",
       "1 2018-03-19 22:38:15               0  975864052017659904        True   \n",
       "2 2018-03-19 13:07:50           83709  975720503997620224       False   \n",
       "3 2018-03-19 12:16:40           37803  975707627182219264       False   \n",
       "4 2018-03-18 12:35:42          112576  975350027169206272       False   \n",
       "\n",
       "   retweet_count              source  \\\n",
       "0           5457  Twitter for iPhone   \n",
       "1           4537  Twitter for iPhone   \n",
       "2          19726  Twitter for iPhone   \n",
       "3           6619  Twitter for iPhone   \n",
       "4          30561  Twitter for iPhone   \n",
       "\n",
       "                                                text  \n",
       "0  The Democrats do not want to help DACA. Would ...  \n",
       "1  RT @WhiteHouse: The opioid crisis has created ...  \n",
       "2  A total WITCH HUNT with massive conflicts of i...  \n",
       "3  .@seanhannity on @foxandfriends now! Great! 8:...  \n",
       "4  Why does the Mueller team have 13 hardened Dem...  "
      ]
     },
     "execution_count": 7,
     "metadata": {},
     "output_type": "execute_result"
    }
   ],
   "source": [
    "tweets.head()"
   ]
  },
  {
   "cell_type": "code",
   "execution_count": 8,
   "metadata": {},
   "outputs": [],
   "source": [
    "t_sent = list()\n",
    "for tweet in tweets['text']:\n",
    "    t_sent.append(analyzer.polarity_scores(tweet)['compound'])\n",
    "tweets['sentiment'] = t_sent"
   ]
  },
  {
   "cell_type": "code",
   "execution_count": 9,
   "metadata": {},
   "outputs": [
    {
     "data": {
      "text/html": [
       "<div>\n",
       "<style>\n",
       "    .dataframe thead tr:only-child th {\n",
       "        text-align: right;\n",
       "    }\n",
       "\n",
       "    .dataframe thead th {\n",
       "        text-align: left;\n",
       "    }\n",
       "\n",
       "    .dataframe tbody tr th {\n",
       "        vertical-align: top;\n",
       "    }\n",
       "</style>\n",
       "<table border=\"1\" class=\"dataframe\">\n",
       "  <thead>\n",
       "    <tr style=\"text-align: right;\">\n",
       "      <th></th>\n",
       "      <th>created_at</th>\n",
       "      <th>favorite_count</th>\n",
       "      <th>id_str</th>\n",
       "      <th>is_retweet</th>\n",
       "      <th>retweet_count</th>\n",
       "      <th>source</th>\n",
       "      <th>text</th>\n",
       "      <th>sentiment</th>\n",
       "    </tr>\n",
       "  </thead>\n",
       "  <tbody>\n",
       "    <tr>\n",
       "      <th>0</th>\n",
       "      <td>2018-03-20 00:28:45</td>\n",
       "      <td>21050</td>\n",
       "      <td>975891861863829504</td>\n",
       "      <td>False</td>\n",
       "      <td>5457</td>\n",
       "      <td>Twitter for iPhone</td>\n",
       "      <td>The Democrats do not want to help DACA. Would ...</td>\n",
       "      <td>0.3722</td>\n",
       "    </tr>\n",
       "    <tr>\n",
       "      <th>1</th>\n",
       "      <td>2018-03-19 22:38:15</td>\n",
       "      <td>0</td>\n",
       "      <td>975864052017659904</td>\n",
       "      <td>True</td>\n",
       "      <td>4537</td>\n",
       "      <td>Twitter for iPhone</td>\n",
       "      <td>RT @WhiteHouse: The opioid crisis has created ...</td>\n",
       "      <td>0.0900</td>\n",
       "    </tr>\n",
       "    <tr>\n",
       "      <th>2</th>\n",
       "      <td>2018-03-19 13:07:50</td>\n",
       "      <td>83709</td>\n",
       "      <td>975720503997620224</td>\n",
       "      <td>False</td>\n",
       "      <td>19726</td>\n",
       "      <td>Twitter for iPhone</td>\n",
       "      <td>A total WITCH HUNT with massive conflicts of i...</td>\n",
       "      <td>-0.4810</td>\n",
       "    </tr>\n",
       "    <tr>\n",
       "      <th>3</th>\n",
       "      <td>2018-03-19 12:16:40</td>\n",
       "      <td>37803</td>\n",
       "      <td>975707627182219264</td>\n",
       "      <td>False</td>\n",
       "      <td>6619</td>\n",
       "      <td>Twitter for iPhone</td>\n",
       "      <td>.@seanhannity on @foxandfriends now! Great! 8:...</td>\n",
       "      <td>0.6892</td>\n",
       "    </tr>\n",
       "    <tr>\n",
       "      <th>4</th>\n",
       "      <td>2018-03-18 12:35:42</td>\n",
       "      <td>112576</td>\n",
       "      <td>975350027169206272</td>\n",
       "      <td>False</td>\n",
       "      <td>30561</td>\n",
       "      <td>Twitter for iPhone</td>\n",
       "      <td>Why does the Mueller team have 13 hardened Dem...</td>\n",
       "      <td>0.4440</td>\n",
       "    </tr>\n",
       "  </tbody>\n",
       "</table>\n",
       "</div>"
      ],
      "text/plain": [
       "           created_at  favorite_count              id_str  is_retweet  \\\n",
       "0 2018-03-20 00:28:45           21050  975891861863829504       False   \n",
       "1 2018-03-19 22:38:15               0  975864052017659904        True   \n",
       "2 2018-03-19 13:07:50           83709  975720503997620224       False   \n",
       "3 2018-03-19 12:16:40           37803  975707627182219264       False   \n",
       "4 2018-03-18 12:35:42          112576  975350027169206272       False   \n",
       "\n",
       "   retweet_count              source  \\\n",
       "0           5457  Twitter for iPhone   \n",
       "1           4537  Twitter for iPhone   \n",
       "2          19726  Twitter for iPhone   \n",
       "3           6619  Twitter for iPhone   \n",
       "4          30561  Twitter for iPhone   \n",
       "\n",
       "                                                text  sentiment  \n",
       "0  The Democrats do not want to help DACA. Would ...     0.3722  \n",
       "1  RT @WhiteHouse: The opioid crisis has created ...     0.0900  \n",
       "2  A total WITCH HUNT with massive conflicts of i...    -0.4810  \n",
       "3  .@seanhannity on @foxandfriends now! Great! 8:...     0.6892  \n",
       "4  Why does the Mueller team have 13 hardened Dem...     0.4440  "
      ]
     },
     "execution_count": 9,
     "metadata": {},
     "output_type": "execute_result"
    }
   ],
   "source": [
    "tweets.head()"
   ]
  },
  {
   "cell_type": "code",
   "execution_count": 10,
   "metadata": {
    "collapsed": true
   },
   "outputs": [],
   "source": [
    "n_date = list()\n",
    "n_vol = list()\n",
    "a_sent = list()\n",
    "a_source = list()\n",
    "newsdf = df()"
   ]
  },
  {
   "cell_type": "code",
   "execution_count": 11,
   "metadata": {},
   "outputs": [],
   "source": [
    "for ds in range(d_start.toordinal(), d_end.toordinal()) :\n",
    "    ds = dt.date.fromordinal(ds)\n",
    "    n_date.append(ds)\n",
    "    news = json.load(open('download/trump_'+ds.isoformat()+'.json'))\n",
    "    n_vol.append(news['totalResults'])\n",
    "    newsdf = pd.concat([newsdf,df(news['articles'])])\n",
    "    for article in news['articles'] :\n",
    "        header = article['title']\n",
    "        desc = article['description']\n",
    "        a_source.append(article['source']['name'])\n",
    "        a_sent.append(analyzer.polarity_scores(header+desc)['compound'])"
   ]
  },
  {
   "cell_type": "code",
   "execution_count": 12,
   "metadata": {},
   "outputs": [],
   "source": [
    "newsdf['sentiment'] = a_sent\n",
    "newsdf['source'] = a_source"
   ]
  },
  {
   "cell_type": "code",
   "execution_count": null,
   "metadata": {},
   "outputs": [],
   "source": [
    "tweets.to_csv('tweets.csv', encoding='utf-8')\n",
    "newsdf.to_csv('news.csv', encoding='utf-8')\n",
    "news_agg = df({'date' : n_date, 'volume' : n_vol})\n",
    "news_agg.to_csv('news_agg.csv', encoding='utf-8')"
   ]
  },
  {
   "cell_type": "code",
   "execution_count": null,
   "metadata": {
    "collapsed": true
   },
   "outputs": [],
   "source": [
    "tweets.to_csv('tweets.csv', sep=',',encoding='utf-8')"
   ]
  },
  {
   "cell_type": "code",
   "execution_count": null,
   "metadata": {
    "collapsed": true
   },
   "outputs": [],
   "source": []
  },
  {
   "cell_type": "code",
   "execution_count": 13,
   "metadata": {
    "collapsed": true
   },
   "outputs": [],
   "source": [
    "tweets['type'] = 'tweet'"
   ]
  },
  {
   "cell_type": "code",
   "execution_count": 14,
   "metadata": {},
   "outputs": [
    {
     "data": {
      "text/html": [
       "<div>\n",
       "<style>\n",
       "    .dataframe thead tr:only-child th {\n",
       "        text-align: right;\n",
       "    }\n",
       "\n",
       "    .dataframe thead th {\n",
       "        text-align: left;\n",
       "    }\n",
       "\n",
       "    .dataframe tbody tr th {\n",
       "        vertical-align: top;\n",
       "    }\n",
       "</style>\n",
       "<table border=\"1\" class=\"dataframe\">\n",
       "  <thead>\n",
       "    <tr style=\"text-align: right;\">\n",
       "      <th></th>\n",
       "      <th>author</th>\n",
       "      <th>description</th>\n",
       "      <th>publishedAt</th>\n",
       "      <th>source</th>\n",
       "      <th>title</th>\n",
       "      <th>url</th>\n",
       "      <th>urlToImage</th>\n",
       "      <th>sentiment</th>\n",
       "      <th>type</th>\n",
       "    </tr>\n",
       "  </thead>\n",
       "  <tbody>\n",
       "    <tr>\n",
       "      <th>0</th>\n",
       "      <td>Jon Fingas</td>\n",
       "      <td>The US' brief period of registration-free dron...</td>\n",
       "      <td>2017-12-13T00:44:00Z</td>\n",
       "      <td>Engadget</td>\n",
       "      <td>US once again requires that you register your ...</td>\n",
       "      <td>https://www.engadget.com/2017/12/12/trump-sign...</td>\n",
       "      <td>https://o.aolcdn.com/images/dims?thumbnail=120...</td>\n",
       "      <td>0.4767</td>\n",
       "      <td>news</td>\n",
       "    </tr>\n",
       "    <tr>\n",
       "      <th>1</th>\n",
       "      <td>Sandra Upson</td>\n",
       "      <td>Artificial intelligence-generated video, photo...</td>\n",
       "      <td>2017-12-13T12:00:00Z</td>\n",
       "      <td>Wired</td>\n",
       "      <td>Artificial Intelligence Is Killing the Uncanny...</td>\n",
       "      <td>https://www.wired.com/story/future-of-artifici...</td>\n",
       "      <td>https://media.wired.com/photos/5a2eb8b77ddf3c6...</td>\n",
       "      <td>-0.3182</td>\n",
       "      <td>news</td>\n",
       "    </tr>\n",
       "    <tr>\n",
       "      <th>2</th>\n",
       "      <td>Tom Warren</td>\n",
       "      <td>pew pew</td>\n",
       "      <td>2017-12-13T12:31:17Z</td>\n",
       "      <td>The Verge</td>\n",
       "      <td>Apple invests $390 million in US-made iPhone l...</td>\n",
       "      <td>https://www.theverge.com/2017/12/13/16771246/a...</td>\n",
       "      <td>https://cdn.vox-cdn.com/thumbor/rI0jDb-MMcxMBl...</td>\n",
       "      <td>0.0000</td>\n",
       "      <td>news</td>\n",
       "    </tr>\n",
       "    <tr>\n",
       "      <th>3</th>\n",
       "      <td>Dell Cameron</td>\n",
       "      <td>Plagued by infighting and the constant threat ...</td>\n",
       "      <td>2017-12-13T19:35:00Z</td>\n",
       "      <td>Gizmodo.com</td>\n",
       "      <td>After Alabama Defeat, Republicans Should Think...</td>\n",
       "      <td>https://gizmodo.com/after-alabama-defeat-repub...</td>\n",
       "      <td>https://i.kinja-img.com/gawker-media/image/upl...</td>\n",
       "      <td>-0.7783</td>\n",
       "      <td>news</td>\n",
       "    </tr>\n",
       "    <tr>\n",
       "      <th>4</th>\n",
       "      <td>RICHARD FAUSSET</td>\n",
       "      <td>Turned off by Roy S. Moore, Stephen K. Bannon ...</td>\n",
       "      <td>2017-12-13T14:04:44Z</td>\n",
       "      <td>The New York Times</td>\n",
       "      <td>Why Black Voters Backed Doug Jones: ‘It’s a Ma...</td>\n",
       "      <td>https://www.nytimes.com/2017/12/13/us/doug-jon...</td>\n",
       "      <td>https://static01.nyt.com/images/2017/12/13/us/...</td>\n",
       "      <td>0.0516</td>\n",
       "      <td>news</td>\n",
       "    </tr>\n",
       "  </tbody>\n",
       "</table>\n",
       "</div>"
      ],
      "text/plain": [
       "            author                                        description  \\\n",
       "0       Jon Fingas  The US' brief period of registration-free dron...   \n",
       "1     Sandra Upson  Artificial intelligence-generated video, photo...   \n",
       "2       Tom Warren                                            pew pew   \n",
       "3     Dell Cameron  Plagued by infighting and the constant threat ...   \n",
       "4  RICHARD FAUSSET  Turned off by Roy S. Moore, Stephen K. Bannon ...   \n",
       "\n",
       "            publishedAt              source  \\\n",
       "0  2017-12-13T00:44:00Z            Engadget   \n",
       "1  2017-12-13T12:00:00Z               Wired   \n",
       "2  2017-12-13T12:31:17Z           The Verge   \n",
       "3  2017-12-13T19:35:00Z         Gizmodo.com   \n",
       "4  2017-12-13T14:04:44Z  The New York Times   \n",
       "\n",
       "                                               title  \\\n",
       "0  US once again requires that you register your ...   \n",
       "1  Artificial Intelligence Is Killing the Uncanny...   \n",
       "2  Apple invests $390 million in US-made iPhone l...   \n",
       "3  After Alabama Defeat, Republicans Should Think...   \n",
       "4  Why Black Voters Backed Doug Jones: ‘It’s a Ma...   \n",
       "\n",
       "                                                 url  \\\n",
       "0  https://www.engadget.com/2017/12/12/trump-sign...   \n",
       "1  https://www.wired.com/story/future-of-artifici...   \n",
       "2  https://www.theverge.com/2017/12/13/16771246/a...   \n",
       "3  https://gizmodo.com/after-alabama-defeat-repub...   \n",
       "4  https://www.nytimes.com/2017/12/13/us/doug-jon...   \n",
       "\n",
       "                                          urlToImage  sentiment  type  \n",
       "0  https://o.aolcdn.com/images/dims?thumbnail=120...     0.4767  news  \n",
       "1  https://media.wired.com/photos/5a2eb8b77ddf3c6...    -0.3182  news  \n",
       "2  https://cdn.vox-cdn.com/thumbor/rI0jDb-MMcxMBl...     0.0000  news  \n",
       "3  https://i.kinja-img.com/gawker-media/image/upl...    -0.7783  news  \n",
       "4  https://static01.nyt.com/images/2017/12/13/us/...     0.0516  news  "
      ]
     },
     "execution_count": 14,
     "metadata": {},
     "output_type": "execute_result"
    }
   ],
   "source": [
    "newsdf['type'] = 'news'\n",
    "newsdf.head()"
   ]
  },
  {
   "cell_type": "code",
   "execution_count": 17,
   "metadata": {},
   "outputs": [],
   "source": [
    "tweets['publishedAt'] = tweets['created_at']\n",
    "combined = pd.concat([newsdf[['publishedAt','sentiment','type']], tweets[['publishedAt','sentiment','type']]])"
   ]
  },
  {
   "cell_type": "code",
   "execution_count": 18,
   "metadata": {},
   "outputs": [
    {
     "data": {
      "text/html": [
       "<div>\n",
       "<style>\n",
       "    .dataframe thead tr:only-child th {\n",
       "        text-align: right;\n",
       "    }\n",
       "\n",
       "    .dataframe thead th {\n",
       "        text-align: left;\n",
       "    }\n",
       "\n",
       "    .dataframe tbody tr th {\n",
       "        vertical-align: top;\n",
       "    }\n",
       "</style>\n",
       "<table border=\"1\" class=\"dataframe\">\n",
       "  <thead>\n",
       "    <tr style=\"text-align: right;\">\n",
       "      <th></th>\n",
       "      <th>publishedAt</th>\n",
       "      <th>sentiment</th>\n",
       "      <th>type</th>\n",
       "    </tr>\n",
       "  </thead>\n",
       "  <tbody>\n",
       "    <tr>\n",
       "      <th>0</th>\n",
       "      <td>2017-12-13T00:44:00Z</td>\n",
       "      <td>0.4767</td>\n",
       "      <td>news</td>\n",
       "    </tr>\n",
       "    <tr>\n",
       "      <th>1</th>\n",
       "      <td>2017-12-13T12:00:00Z</td>\n",
       "      <td>-0.3182</td>\n",
       "      <td>news</td>\n",
       "    </tr>\n",
       "    <tr>\n",
       "      <th>2</th>\n",
       "      <td>2017-12-13T12:31:17Z</td>\n",
       "      <td>0.0000</td>\n",
       "      <td>news</td>\n",
       "    </tr>\n",
       "    <tr>\n",
       "      <th>3</th>\n",
       "      <td>2017-12-13T19:35:00Z</td>\n",
       "      <td>-0.7783</td>\n",
       "      <td>news</td>\n",
       "    </tr>\n",
       "    <tr>\n",
       "      <th>4</th>\n",
       "      <td>2017-12-13T14:04:44Z</td>\n",
       "      <td>0.0516</td>\n",
       "      <td>news</td>\n",
       "    </tr>\n",
       "  </tbody>\n",
       "</table>\n",
       "</div>"
      ],
      "text/plain": [
       "            publishedAt  sentiment  type\n",
       "0  2017-12-13T00:44:00Z     0.4767  news\n",
       "1  2017-12-13T12:00:00Z    -0.3182  news\n",
       "2  2017-12-13T12:31:17Z     0.0000  news\n",
       "3  2017-12-13T19:35:00Z    -0.7783  news\n",
       "4  2017-12-13T14:04:44Z     0.0516  news"
      ]
     },
     "execution_count": 18,
     "metadata": {},
     "output_type": "execute_result"
    }
   ],
   "source": [
    "combined.head()"
   ]
  },
  {
   "cell_type": "code",
   "execution_count": 19,
   "metadata": {
    "collapsed": true
   },
   "outputs": [],
   "source": [
    "combined.to_csv('combined.csv', sep=',',encoding='utf-8')"
   ]
  },
  {
   "cell_type": "code",
   "execution_count": null,
   "metadata": {
    "collapsed": true
   },
   "outputs": [],
   "source": []
  }
 ],
 "metadata": {
  "kernelspec": {
   "display_name": "Python 2",
   "language": "python",
   "name": "python2"
  },
  "language_info": {
   "codemirror_mode": {
    "name": "ipython",
    "version": 2
   },
   "file_extension": ".py",
   "mimetype": "text/x-python",
   "name": "python",
   "nbconvert_exporter": "python",
   "pygments_lexer": "ipython2",
   "version": "2.7.13"
  }
 },
 "nbformat": 4,
 "nbformat_minor": 2
}
