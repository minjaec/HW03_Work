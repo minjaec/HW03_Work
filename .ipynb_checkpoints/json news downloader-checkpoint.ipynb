{
 "cells": [
  {
   "cell_type": "code",
   "execution_count": 1,
   "metadata": {
    "collapsed": true
   },
   "outputs": [],
   "source": [
    "from datetime import date\n",
    "import urllib\n",
    "import json\n",
    "import pprint\n",
    "import io"
   ]
  },
  {
   "cell_type": "code",
   "execution_count": 2,
   "metadata": {
    "collapsed": true
   },
   "outputs": [],
   "source": [
    "pp = pprint.PrettyPrinter(indent=4)\n",
    "d = date.today().toordinal()\n",
    "keyword = 'trump'"
   ]
  },
  {
   "cell_type": "code",
   "execution_count": null,
   "metadata": {
    "collapsed": true
   },
   "outputs": [],
   "source": [
    "    "
   ]
  },
  {
   "cell_type": "code",
   "execution_count": 3,
   "metadata": {},
   "outputs": [],
   "source": [
    "for i in range(8):\n",
    "    d = d - 1\n",
    "    ds = date.fromordinal(d).isoformat()\n",
    "    url = \"https://newsapi.org/v2/everything?q=\"+keyword+\"&from=\"+ds+\"&to=\"+ds+\"&sortBy=popularity&apiKey=ebb33bd88826414d860b14a50ee7c62f\"\n",
    "    response = urllib.urlopen(url)\n",
    "    data = json.loads(response.read())\n",
    "    if data['status'] != 'ok':\n",
    "        print(ds+' status '+data['status'])\n",
    "    else :\n",
    "        with io.open('download/'+keyword+'_'+ds+'.json', 'w', encoding='utf-8') as f:\n",
    "            f.write(json.dumps(data, ensure_ascii=False))\n",
    "    \n",
    "    \n"
   ]
  },
  {
   "cell_type": "code",
   "execution_count": null,
   "metadata": {
    "collapsed": true
   },
   "outputs": [],
   "source": []
  }
 ],
 "metadata": {
  "kernelspec": {
   "display_name": "Python 2",
   "language": "python",
   "name": "python2"
  },
  "language_info": {
   "codemirror_mode": {
    "name": "ipython",
    "version": 2
   },
   "file_extension": ".py",
   "mimetype": "text/x-python",
   "name": "python",
   "nbconvert_exporter": "python",
   "pygments_lexer": "ipython2",
   "version": "2.7.13"
  }
 },
 "nbformat": 4,
 "nbformat_minor": 2
}
